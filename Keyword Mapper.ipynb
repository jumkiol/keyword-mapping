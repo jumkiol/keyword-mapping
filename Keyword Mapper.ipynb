{
 "cells": [
  {
   "cell_type": "code",
   "execution_count": 130,
   "id": "f14989ed",
   "metadata": {},
   "outputs": [],
   "source": [
    "import boto3\n",
    "import json\n",
    "import csv as csv\n",
    "import PIL\n",
    "\n",
    "from PIL import Image"
   ]
  },
  {
   "cell_type": "code",
   "execution_count": null,
   "id": "db9ade7c",
   "metadata": {},
   "outputs": [],
   "source": [
    "# Define the function to call the AWS text detection service. Return the bounding box data of each word detected\n",
    "def detect_text(photo, bucket):\n",
    "    client = boto3.client('rekognition')\n",
    "\n",
    "    response = client.detect_text(Image={'S3Object': {'Bucket': bucket, 'Name': photo}})\n",
    "\n",
    "    textDetections = response['TextDetections']\n",
    "\n",
    "    words = {}\n",
    "    for text in textDetections:\n",
    "        if (text['Type'] == 'WORD'):\n",
    "            words[text['DetectedText']] = {'Left': text['Geometry']['BoundingBox']['Left'],\n",
    "                                           'Top': text['Geometry']['BoundingBox']['Top'],\n",
    "                                           'Width': text['Geometry']['BoundingBox']['Width'],\n",
    "                                           'Height': text['Geometry']['BoundingBox']['Height']}\n",
    "    return words"
   ]
  },
  {
   "cell_type": "code",
   "execution_count": 135,
   "id": "588bd47e",
   "metadata": {},
   "outputs": [],
   "source": [
    "# Change pname to the jpg file in S3 (only ss1-6 exist atm)\n",
    "pname = 'ss3'\n",
    "bucket = 'capstone-bucket-asu-21221'\n",
    "photo = pname + '.jpg'\n",
    "word_list = detect_text(photo, bucket)"
   ]
  },
  {
   "cell_type": "code",
   "execution_count": 136,
   "id": "85417d9f",
   "metadata": {},
   "outputs": [],
   "source": [
    "# Grab the image resolution and the mouse click coordinates\n",
    "img = PIL.Image.open('H:\\\\Lab\\\\Keyword Mapping\\\\'+ pname + '\\\\' + photo)\n",
    "wid, hgt = img.size\n",
    "screen_res = [wid, hgt]\n",
    "coord_list = []\n",
    "with open('H:\\\\Lab\\\\Keyword Mapping\\\\'+ pname + '\\\\' + pname + '_coords.csv', newline='') as csvfile:\n",
    "    spamreader = csv.reader(csvfile, delimiter=',', quotechar='|')\n",
    "    for row in spamreader:\n",
    "        if row[0] != 'Click-X':\n",
    "            coord_list.append([int(row[0]), int(row[1])])\n",
    "\n",
    "result = {}"
   ]
  },
  {
   "cell_type": "code",
   "execution_count": 137,
   "id": "e155f1b4",
   "metadata": {},
   "outputs": [],
   "source": [
    "# For every mouse click coordinate, try to assign it to the corresponding bounding box\n",
    "for coords in coord_list:\n",
    "    for word in word_list:\n",
    "        left = word_list[word]['Left'] * screen_res[0]\n",
    "        right = left + (word_list[word]['Width'] * screen_res[0])\n",
    "        top = word_list[word]['Top'] * screen_res[1]\n",
    "        bottom = top + (word_list[word]['Height'] * screen_res[1])\n",
    "        \n",
    "        '''\n",
    "        prec = 0.01\n",
    "        lp = left * prec\n",
    "        rp = right * prec\n",
    "        tp = top * prec\n",
    "        bp = bottom * prec\n",
    "        '''\n",
    "\n",
    "        if coords[0] >= left and coords[0] <= right and coords[1] >= top and coords[1] <= bottom:\n",
    "            if word in result:\n",
    "                result[word] += 1\n",
    "            else:\n",
    "                result[word] = 1\n",
    "            break"
   ]
  },
  {
   "cell_type": "code",
   "execution_count": 138,
   "id": "ffecf67f",
   "metadata": {},
   "outputs": [
    {
     "name": "stdout",
     "output_type": "stream",
     "text": [
      "INFORMATION,9\n",
      "adidas,10\n",
      "Polyamide.36%,5\n",
      "Women's,2\n",
      "*****,3\n",
      "Shipping.,1\n",
      "I,1\n",
      "closure,1\n",
      "Wash,2\n",
      "Machine,4\n",
      "3-Stripes,1\n",
      "ratings,1\n",
      "2.0,1\n",
      "136,1\n",
      "questions,1\n",
      "Opaque,1\n",
      "64%,1\n",
      "Closure,1\n",
      "Available,1\n"
     ]
    }
   ],
   "source": [
    "# Print results\n",
    "for r in result:\n",
    "    print(str(r) + \",\" + str(result[r]))"
   ]
  },
  {
   "cell_type": "code",
   "execution_count": null,
   "id": "3a911d46",
   "metadata": {},
   "outputs": [],
   "source": [
    " "
   ]
  }
 ],
 "metadata": {
  "kernelspec": {
   "display_name": "Python 3",
   "language": "python",
   "name": "python3"
  },
  "language_info": {
   "codemirror_mode": {
    "name": "ipython",
    "version": 3
   },
   "file_extension": ".py",
   "mimetype": "text/x-python",
   "name": "python",
   "nbconvert_exporter": "python",
   "pygments_lexer": "ipython3",
   "version": "3.8.8"
  }
 },
 "nbformat": 4,
 "nbformat_minor": 5
}
